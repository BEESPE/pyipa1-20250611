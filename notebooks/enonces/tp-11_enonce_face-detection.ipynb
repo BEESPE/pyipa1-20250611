{
 "cells": [
  {
   "cell_type": "code",
   "execution_count": 1,
   "metadata": {},
   "outputs": [],
   "source": [
    "import cv2\n",
    "from skimage import io"
   ]
  },
  {
   "cell_type": "markdown",
   "metadata": {},
   "source": [
    "Charger l'image istockphoro_faces.jpg en utilisant cv2 et la convertir en niveaux de gris."
   ]
  },
  {
   "cell_type": "code",
   "execution_count": null,
   "metadata": {},
   "outputs": [],
   "source": [
    "# Votre code ici"
   ]
  },
  {
   "cell_type": "markdown",
   "metadata": {},
   "source": [
    "Charger le classifier en instanciant un CascadeClassifier à partir du fichier xml téléchargé précédemment."
   ]
  },
  {
   "cell_type": "code",
   "execution_count": null,
   "metadata": {},
   "outputs": [],
   "source": [
    "# Votre code ici"
   ]
  },
  {
   "cell_type": "markdown",
   "metadata": {},
   "source": [
    "L'objet ainsi créé dispose d'une méthode detectMultiScale, qui prend une image en argument et applique le CascadeClassifier dessus. MultiScale fait référence au fait que l'algorithme s'intéresse à des sous-régions de l'image de différentes échelles, afin de détecter des visages de différentes tailles"
   ]
  },
  {
   "cell_type": "markdown",
   "metadata": {},
   "source": [
    "Appliquer cette méthode et stocker le résultat dans une variable."
   ]
  },
  {
   "cell_type": "code",
   "execution_count": null,
   "metadata": {},
   "outputs": [],
   "source": [
    "# Votre code ici"
   ]
  },
  {
   "cell_type": "markdown",
   "metadata": {},
   "source": [
    "La variable créée contient maintenant tous les visages détectés dans notre image. Il ne reste plus qu'à les visualiser."
   ]
  },
  {
   "cell_type": "markdown",
   "metadata": {},
   "source": [
    "Pour cela, utiliser la fonction rectangle d'OpenCV. Consulter la documentation de cette fonction. Pour information, chaque visage détecté stocké suite à l'appel de face_cascade est défini par les coordonnées de son coin supérieur gauche, ainsi que la largeur et la hauteur du rectangle qui contient ce visage. Contrainte supplémentaire : on créera des rectangles verts d'épaisseur 2."
   ]
  },
  {
   "cell_type": "code",
   "execution_count": null,
   "metadata": {},
   "outputs": [],
   "source": [
    "# Votre code ici"
   ]
  },
  {
   "cell_type": "markdown",
   "metadata": {},
   "source": [
    "Pour finir, afficher l'image. Attention, il s'agit d'une image cv2 ;)"
   ]
  },
  {
   "cell_type": "code",
   "execution_count": null,
   "metadata": {},
   "outputs": [],
   "source": [
    "# Votre code ici"
   ]
  }
 ],
 "metadata": {
  "kernelspec": {
   "display_name": "test-yOZBwoax-py3.11",
   "language": "python",
   "name": "python3"
  },
  "language_info": {
   "codemirror_mode": {
    "name": "ipython",
    "version": 3
   },
   "file_extension": ".py",
   "mimetype": "text/x-python",
   "name": "python",
   "nbconvert_exporter": "python",
   "pygments_lexer": "ipython3",
   "version": "3.11.4"
  }
 },
 "nbformat": 4,
 "nbformat_minor": 2
}
